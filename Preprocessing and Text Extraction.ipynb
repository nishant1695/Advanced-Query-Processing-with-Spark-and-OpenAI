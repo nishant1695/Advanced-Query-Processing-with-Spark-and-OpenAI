{
 "cells": [
  {
   "cell_type": "code",
   "execution_count": 1,
   "id": "266d1e85",
   "metadata": {},
   "outputs": [
    {
     "name": "stdout",
     "output_type": "stream",
     "text": [
      "Starting Spark application\n"
     ]
    },
    {
     "data": {
      "text/html": [
       "<table>\n",
       "<tr><th>ID</th><th>YARN Application ID</th><th>Kind</th><th>State</th><th>Spark UI</th><th>Driver log</th><th>User</th><th>Current session?</th></tr><tr><td>3</td><td>application_1713759699975_0004</td><td>pyspark</td><td>idle</td><td><a target=\"_blank\" href=\"http://ip-172-31-67-222.ec2.internal:20888/proxy/application_1713759699975_0004/\">Link</a></td><td><a target=\"_blank\" href=\"http://ip-172-31-72-221.ec2.internal:8042/node/containerlogs/container_1713759699975_0004_01_000001/livy\">Link</a></td><td>None</td><td>✔</td></tr></table>"
      ],
      "text/plain": [
       "<IPython.core.display.HTML object>"
      ]
     },
     "metadata": {},
     "output_type": "display_data"
    },
    {
     "data": {
      "application/vnd.jupyter.widget-view+json": {
       "model_id": "",
       "version_major": 2,
       "version_minor": 0
      },
      "text/plain": [
       "FloatProgress(value=0.0, bar_style='info', description='Progress:', layout=Layout(height='25px', width='50%'),…"
      ]
     },
     "metadata": {},
     "output_type": "display_data"
    },
    {
     "name": "stdout",
     "output_type": "stream",
     "text": [
      "SparkSession available as 'spark'.\n"
     ]
    },
    {
     "data": {
      "application/vnd.jupyter.widget-view+json": {
       "model_id": "",
       "version_major": 2,
       "version_minor": 0
      },
      "text/plain": [
       "FloatProgress(value=0.0, bar_style='info', description='Progress:', layout=Layout(height='25px', width='50%'),…"
      ]
     },
     "metadata": {},
     "output_type": "display_data"
    }
   ],
   "source": [
    "from pyspark.sql import SparkSession\n",
    "import boto3\n",
    "from io import BytesIO\n",
    "from PyPDF2 import PdfReader\n",
    "import numpy as np\n",
    "import faiss\n",
    "from pyspark.ml.feature import Tokenizer, StopWordsRemover, Word2Vec"
   ]
  },
  {
   "cell_type": "code",
   "execution_count": 2,
   "id": "657884ef",
   "metadata": {},
   "outputs": [
    {
     "data": {
      "application/vnd.jupyter.widget-view+json": {
       "model_id": "",
       "version_major": 2,
       "version_minor": 0
      },
      "text/plain": [
       "FloatProgress(value=0.0, bar_style='info', description='Progress:', layout=Layout(height='25px', width='50%'),…"
      ]
     },
     "metadata": {},
     "output_type": "display_data"
    }
   ],
   "source": [
    "# Initialize Spark Session\n",
    "spark = SparkSession.builder.appName(\"PDF Processing\").getOrCreate()\n",
    "sc = spark.sparkContext"
   ]
  },
  {
   "cell_type": "markdown",
   "id": "0a3d9c8f",
   "metadata": {},
   "source": [
    "## Getting PDF Names"
   ]
  },
  {
   "cell_type": "code",
   "execution_count": 41,
   "id": "de05e681",
   "metadata": {},
   "outputs": [
    {
     "data": {
      "application/vnd.jupyter.widget-view+json": {
       "model_id": "",
       "version_major": 2,
       "version_minor": 0
      },
      "text/plain": [
       "FloatProgress(value=0.0, bar_style='info', description='Progress:', layout=Layout(height='25px', width='50%'),…"
      ]
     },
     "metadata": {},
     "output_type": "display_data"
    },
    {
     "name": "stdout",
     "output_type": "stream",
     "text": [
      "Total PDF files: 9344"
     ]
    }
   ],
   "source": [
    "s3_client = boto3.client('s3')\n",
    "bucket_name = 'metcs777-term-project'\n",
    "prefix = 'arXiv/'\n",
    "\n",
    "def list_all_pdf_files(bucket, prefix):\n",
    "    \"\"\"List all PDF files in the specified S3 bucket and prefix.\"\"\"\n",
    "    paginator = s3_client.get_paginator('list_objects_v2')\n",
    "    page_iterator = paginator.paginate(Bucket=bucket, Prefix=prefix)\n",
    "\n",
    "    pdf_files = []\n",
    "    for page in page_iterator:\n",
    "        if 'Contents' in page:\n",
    "            pdf_files += ['s3://' + bucket + '/' + item['Key']\n",
    "                          for item in page['Contents']\n",
    "                          if item['Key'].endswith('.pdf')]\n",
    "    return pdf_files\n",
    "\n",
    "files = list_all_pdf_files(bucket_name, prefix)\n",
    "print(f'Total PDF files: {len(files)}')"
   ]
  },
  {
   "cell_type": "markdown",
   "id": "bde6f264",
   "metadata": {},
   "source": [
    "## Creating Batches"
   ]
  },
  {
   "cell_type": "code",
   "execution_count": null,
   "id": "bf19f75b",
   "metadata": {},
   "outputs": [],
   "source": [
    "def create_batches(filenames, batch_size):\n",
    "    \"\"\"Yield successive n-sized chunks from filenames.\"\"\"\n",
    "    for i in range(0, len(filenames), batch_size):\n",
    "        yield filenames[i:i + batch_size]\n",
    "        \n",
    "def save_batches_to_s3(batches, bucket, prefix):\n",
    "    \"\"\"Save each batch of filenames as a separate text file in S3.\"\"\"\n",
    "    s3_client = boto3.client('s3')\n",
    "    for index, batch in enumerate(batches):\n",
    "        # Create a string from the batch list\n",
    "        batch_content = '\\n'.join(batch)\n",
    "        # File path in S3\n",
    "        file_path = f\"{prefix}/batch_{index+1}.txt\"\n",
    "        # Upload the batch file to S3\n",
    "        s3_client.put_object(Bucket=bucket, Key=file_path, Body=batch_content)\n",
    "        print(f\"Batch {index+1} saved to {file_path}\")"
   ]
  },
  {
   "cell_type": "code",
   "execution_count": null,
   "id": "77918d89",
   "metadata": {},
   "outputs": [],
   "source": [
    "bucket_name = 'metcs777-term-project'\n",
    "file_prefix = 'batched_files'  # e.g., 'batched_files'\n",
    "\n",
    "# Create batches\n",
    "filename_batches = list(create_batches(files, 500))\n",
    "\n",
    "# Save batches to S3\n",
    "save_batches_to_s3(filename_batches, bucket_name, file_prefix)"
   ]
  },
  {
   "cell_type": "markdown",
   "id": "1fff495d",
   "metadata": {},
   "source": [
    "## Function to extract text from pdf"
   ]
  },
  {
   "cell_type": "code",
   "execution_count": 50,
   "id": "ab7d158b",
   "metadata": {},
   "outputs": [
    {
     "data": {
      "application/vnd.jupyter.widget-view+json": {
       "model_id": "",
       "version_major": 2,
       "version_minor": 0
      },
      "text/plain": [
       "FloatProgress(value=0.0, bar_style='info', description='Progress:', layout=Layout(height='25px', width='50%'),…"
      ]
     },
     "metadata": {},
     "output_type": "display_data"
    }
   ],
   "source": [
    "# Function to fetch and extract text and file name from PDF in S3\n",
    "def extract_text_from_pdf_s3(bucket, key):\n",
    "    s3_client = boto3.client('s3')\n",
    "    response = s3_client.get_object(Bucket=bucket, Key=key)\n",
    "    pdf_bytes = response['Body'].read()\n",
    "    pdfFileObject = BytesIO(pdf_bytes)\n",
    "    pdfReader = PdfReader(pdfFileObject)\n",
    "    output = ''\n",
    "    for i in range(len(pdfReader.pages)):\n",
    "        page = pdfReader.pages[i]\n",
    "        output += page.extract_text() or ''  # Adding fallback for None\n",
    "    pdfFileObject.close()\n",
    "    return output\n",
    "\n",
    "# Function to process PDF files and return file name and text\n",
    "def process_pdf(file_path):\n",
    "    try:\n",
    "        key = file_path[len('s3://metcs777-term-project/'):]\n",
    "        text = extract_text_from_pdf_s3('metcs777-term-project', key)\n",
    "        return (file_path, text)  # Return both file name and text\n",
    "    except Exception as e:\n",
    "        return (file_path, str(e))  # Return file name and error message"
   ]
  },
  {
   "cell_type": "markdown",
   "id": "5f82a4de",
   "metadata": {},
   "source": [
    "## Reading Batch files"
   ]
  },
  {
   "cell_type": "code",
   "execution_count": 42,
   "id": "eb16a0ad",
   "metadata": {},
   "outputs": [
    {
     "data": {
      "application/vnd.jupyter.widget-view+json": {
       "model_id": "",
       "version_major": 2,
       "version_minor": 0
      },
      "text/plain": [
       "FloatProgress(value=0.0, bar_style='info', description='Progress:', layout=Layout(height='25px', width='50%'),…"
      ]
     },
     "metadata": {},
     "output_type": "display_data"
    }
   ],
   "source": [
    "#get batch txt files\n",
    "s3_client = boto3.client('s3')\n",
    "response2 = s3_client.list_objects_v2(Bucket='metcs777-term-project', Prefix='batched_files/')\n",
    "files2 = ['s3://metcs777-term-project/' + item['Key'] for item in response2['Contents'] if item['Key'].endswith('.txt')]"
   ]
  },
  {
   "cell_type": "code",
   "execution_count": 43,
   "id": "5a9881b1",
   "metadata": {},
   "outputs": [
    {
     "data": {
      "application/vnd.jupyter.widget-view+json": {
       "model_id": "",
       "version_major": 2,
       "version_minor": 0
      },
      "text/plain": [
       "FloatProgress(value=0.0, bar_style='info', description='Progress:', layout=Layout(height='25px', width='50%'),…"
      ]
     },
     "metadata": {},
     "output_type": "display_data"
    }
   ],
   "source": [
    "#take first 10 batch files\n",
    "files2 = files2[10:]\n",
    "files2_rdd = sc.parallelize(files2)"
   ]
  },
  {
   "cell_type": "markdown",
   "id": "9fff6e46",
   "metadata": {},
   "source": [
    "## Function to read batch files"
   ]
  },
  {
   "cell_type": "code",
   "execution_count": 44,
   "id": "678ecc61",
   "metadata": {},
   "outputs": [
    {
     "data": {
      "application/vnd.jupyter.widget-view+json": {
       "model_id": "",
       "version_major": 2,
       "version_minor": 0
      },
      "text/plain": [
       "FloatProgress(value=0.0, bar_style='info', description='Progress:', layout=Layout(height='25px', width='50%'),…"
      ]
     },
     "metadata": {},
     "output_type": "display_data"
    }
   ],
   "source": [
    "def extract_text_from_s3(bucket, key):\n",
    "    \"\"\"Fetch and read text from a text file stored in an S3 bucket.\"\"\"\n",
    "    s3_client = boto3.client('s3')\n",
    "    response = s3_client.get_object(Bucket=bucket, Key=key)\n",
    "    text_data = response['Body'].read().decode('utf-8')\n",
    "    cleaned_text = text_data.split(\"\\n\")  # Remove all newline characters\n",
    "    return cleaned_text\n",
    "\n",
    "def process_text_files(bucket, keys):\n",
    "    \"\"\"Process multiple text files and collect their contents into a list.\"\"\"\n",
    "    contents = []\n",
    "    for key in keys:\n",
    "        key_f = key[len('s3://metcs777-term-project/'):]\n",
    "        file_content = extract_text_from_s3(bucket, key_f)\n",
    "        contents.extend(file_content)\n",
    "    return contents"
   ]
  },
  {
   "cell_type": "markdown",
   "id": "a1e7c043",
   "metadata": {},
   "source": [
    "## Getting name from batch files"
   ]
  },
  {
   "cell_type": "code",
   "execution_count": 51,
   "id": "8cf6c2cd",
   "metadata": {},
   "outputs": [
    {
     "data": {
      "application/vnd.jupyter.widget-view+json": {
       "model_id": "",
       "version_major": 2,
       "version_minor": 0
      },
      "text/plain": [
       "FloatProgress(value=0.0, bar_style='info', description='Progress:', layout=Layout(height='25px', width='50%'),…"
      ]
     },
     "metadata": {},
     "output_type": "display_data"
    }
   ],
   "source": [
    "#name of pdf files from batch files\n",
    "bucket_name = 'metcs777-term-project'\n",
    "pdf_file_paths = process_text_files(bucket_name, files2)"
   ]
  },
  {
   "cell_type": "markdown",
   "id": "7f0b18d3",
   "metadata": {},
   "source": [
    "## For each 500 files, extracting text and saving to S3"
   ]
  },
  {
   "cell_type": "code",
   "execution_count": null,
   "id": "563441b3",
   "metadata": {},
   "outputs": [
    {
     "data": {
      "application/vnd.jupyter.widget-view+json": {
       "model_id": "efa387f17b4a4dcfa3cd608168675f53",
       "version_major": 2,
       "version_minor": 0
      },
      "text/plain": [
       "FloatProgress(value=0.0, bar_style='info', description='Progress:', layout=Layout(height='25px', width='50%'),…"
      ]
     },
     "metadata": {},
     "output_type": "display_data"
    }
   ],
   "source": [
    "for i in range(500,5000,500):\n",
    "    batch_files = pdf_file_paths[i-500:i]\n",
    "    print(len(batch_files))\n",
    "    files_rdd = sc.parallelize(batch_files)\n",
    "    results = files_rdd.map(process_pdf).collect()\n",
    "    results_str = '\\n'.join([str(result) for result in results])\n",
    "    s3_client.put_object(Bucket=bucket_name, Key=\"output/results\"+str(i+5000)+ \".txt\", Body=results_str)"
   ]
  }
 ],
 "metadata": {
  "kernelspec": {
   "display_name": "Python 3 (ipykernel)",
   "language": "python",
   "name": "python3"
  },
  "language_info": {
   "codemirror_mode": {
    "name": "ipython",
    "version": 3
   },
   "file_extension": ".py",
   "mimetype": "text/x-python",
   "name": "python",
   "nbconvert_exporter": "python",
   "pygments_lexer": "ipython3",
   "version": "3.11.5"
  }
 },
 "nbformat": 4,
 "nbformat_minor": 5
}
